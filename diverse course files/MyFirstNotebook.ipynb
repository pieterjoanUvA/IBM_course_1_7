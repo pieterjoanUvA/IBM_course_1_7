{
 "cells": [
  {
   "cell_type": "code",
   "execution_count": 1,
   "metadata": {},
   "outputs": [
    {
     "data": {
      "text/plain": [
       "2"
      ]
     },
     "execution_count": 1,
     "metadata": {},
     "output_type": "execute_result"
    }
   ],
   "source": [
    "1+1\n"
   ]
  },
  {
   "cell_type": "code",
   "execution_count": 2,
   "metadata": {},
   "outputs": [],
   "source": [
    "import pandas as pd\n"
   ]
  },
  {
   "cell_type": "markdown",
   "metadata": {},
   "source": [
    "# My first Title with markdown created with shortcut when just selecting the cell_instance"
   ]
  },
  {
   "cell_type": "markdown",
   "metadata": {},
   "source": [
    "<a href=https://www.cognitiveclass.ai>Cognitive Class</a>\n",
    "\n",
    "<a href=https://github.com/adam-p/markdown-here/wiki/Markdown-Cheatsheet>CheatSheet</a>"
   ]
  },
  {
   "cell_type": "markdown",
   "metadata": {},
   "source": [
    "# H1\n",
    "## H2 header\n",
    "_italic_\n",
    "\n",
    "**BolD**\n",
    "\n",
    "_**Both**_\n",
    "\n",
    "* item\n",
    "* item2\n",
    "  * subitem\n",
    "  * subitem2\n",
    "  \n",
    "  \n",
    "1. numbered_item\n",
    "1. numbered_item2\n",
    "  2. subNumitem\n",
    "  \n",
    "some text\n",
    "\n",
    "   indented paragraphs.  \n",
    "   bla bla bla  \n",
    "   with 2 trailing spaces. \n",
    "   \n",
    "[I'm an inline-style link with title](https://www.google.com \"Google's Homepage\")\n",
    "\n",
    "Inline-style: \n",
    "![alt text](https://github.com/adam-p/markdown-here/raw/master/src/common/images/icon48.png \"Logo Title Text 1\")\n",
    "\n",
    "### Code highlighting \n",
    "```python\n",
    "s = \"Python syntax highlighting\"\n",
    "print s\n",
    "```\n",
    "\n",
    "\n",
    "| Tables        | Are           | Cool  |\n",
    "| ------------- |:-------------:| -----:|\n",
    "| col 3 is      | right-aligned | $1600 |\n",
    "| col 2 is      | centered      |   $12 |\n",
    "| zebra stripes | are neat      |    $1 |\n",
    "\n",
    "## OR\n",
    "\n",
    "Markdown | Less | Pretty\n",
    "--- | --- | ---\n",
    "*Still* | `renders` | **nicely**\n",
    "1 | 2 | 3\n",
    "\n",
    "# a blockquote\n",
    "> Tadaaa!!  \n",
    "> My first block"
   ]
  },
  {
   "cell_type": "code",
   "execution_count": null,
   "metadata": {},
   "outputs": [],
   "source": []
  }
 ],
 "metadata": {
  "kernelspec": {
   "display_name": "Python 3",
   "language": "python",
   "name": "python3"
  },
  "language_info": {
   "codemirror_mode": {
    "name": "ipython",
    "version": 3
   },
   "file_extension": ".py",
   "mimetype": "text/x-python",
   "name": "python",
   "nbconvert_exporter": "python",
   "pygments_lexer": "ipython3",
   "version": "3.6.6"
  }
 },
 "nbformat": 4,
 "nbformat_minor": 2
}
